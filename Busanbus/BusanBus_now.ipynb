{
 "cells": [
  {
   "cell_type": "code",
   "execution_count": 2,
   "metadata": {},
   "outputs": [],
   "source": [
    "import requests\n",
    "from bs4 import BeautifulSoup\n",
    "from urllib.request import urlopen\n",
    "import pandas as pd\n",
    "import folium\n",
    "from folium.features import DivIcon"
   ]
  },
  {
   "cell_type": "markdown",
   "metadata": {},
   "source": [
    "부산 버스 모든 노선의 ID를 구해서 xlsx파일로 저장하기."
   ]
  },
  {
   "cell_type": "code",
   "execution_count": 3,
   "metadata": {},
   "outputs": [],
   "source": [
    "bus_all_line = []\n",
    "def busan_bus_line():\n",
    "    url = 'http://apis.data.go.kr/6260000/BusanBIMS/busInfo'\n",
    "    params ={'serviceKey' : 'l2SER5UdFnVMTCfW/75Op1w1xj0ZVJyWjxZCA4s2qcMkJIjXonsQeorj8k35mmylOV0ywqc75RoXXtagwXuUnQ=='}\n",
    "\n",
    "    response = requests.get(url, params=params)\n",
    "    decodecontent = response.content.decode('utf-8')\n",
    "    xmlParser = BeautifulSoup(decodecontent,'xml')\n",
    "    contents =  xmlParser.select('item')\n",
    "    for number in range(0,len(contents)):\n",
    "        content = contents[number].text.split('\\n')\n",
    "        content.remove('')\n",
    "        content.remove('')\n",
    "        bus_all_line.append(content)\n",
    "\n",
    "\n",
    "busan_bus_line()\n"
   ]
  },
  {
   "cell_type": "code",
   "execution_count": 14,
   "metadata": {},
   "outputs": [],
   "source": [
    "df_bus_line = pd.DataFrame(bus_all_line)"
   ]
  },
  {
   "cell_type": "code",
   "execution_count": 12,
   "metadata": {},
   "outputs": [
    {
     "name": "stdout",
     "output_type": "stream",
     "text": [
      "<class 'pandas.core.frame.DataFrame'>\n",
      "RangeIndex: 293 entries, 0 to 292\n",
      "Data columns (total 12 columns):\n",
      " #   Column     Non-Null Count  Dtype \n",
      "---  ------     --------------  ----- \n",
      " 0   노선ID       293 non-null    object\n",
      " 1   버스 번호      293 non-null    object\n",
      " 2   버스 종류      293 non-null    object\n",
      " 3   기점명        293 non-null    object\n",
      " 4   종점명        293 non-null    object\n",
      " 5   버스 회사명     293 non-null    object\n",
      " 6   배차간격       292 non-null    object\n",
      " 7   첫차         292 non-null    object\n",
      " 8   막차         290 non-null    object\n",
      " 9   배차간격(출퇴근)  277 non-null    object\n",
      " 10  배차간격(평일)   277 non-null    object\n",
      " 11  배차간격(휴일)   238 non-null    object\n",
      "dtypes: object(12)\n",
      "memory usage: 27.6+ KB\n"
     ]
    }
   ],
   "source": [
    "df_bus_line.info()"
   ]
  },
  {
   "cell_type": "code",
   "execution_count": 19,
   "metadata": {},
   "outputs": [],
   "source": [
    "df_bus_line.columns = ['노선ID','버스 번호','버스 종류','기점명','종점명','버스 회사명','배차간격','첫차','막차','배차간격(출퇴근)',\n",
    "                       '배차간격(평일)','배차간격(휴일)']"
   ]
  },
  {
   "cell_type": "code",
   "execution_count": 23,
   "metadata": {},
   "outputs": [
    {
     "name": "stdout",
     "output_type": "stream",
     "text": [
      "<class 'pandas.core.frame.DataFrame'>\n",
      "RangeIndex: 293 entries, 0 to 292\n",
      "Data columns (total 12 columns):\n",
      " #   Column     Non-Null Count  Dtype \n",
      "---  ------     --------------  ----- \n",
      " 0   노선ID       293 non-null    object\n",
      " 1   버스 번호      293 non-null    object\n",
      " 2   버스 종류      293 non-null    object\n",
      " 3   기점명        293 non-null    object\n",
      " 4   종점명        293 non-null    object\n",
      " 5   버스 회사명     293 non-null    object\n",
      " 6   배차간격       292 non-null    object\n",
      " 7   첫차         292 non-null    object\n",
      " 8   막차         290 non-null    object\n",
      " 9   배차간격(출퇴근)  277 non-null    object\n",
      " 10  배차간격(평일)   277 non-null    object\n",
      " 11  배차간격(휴일)   238 non-null    object\n",
      "dtypes: object(12)\n",
      "memory usage: 27.6+ KB\n"
     ]
    }
   ],
   "source": [
    "df_bus_line.info()"
   ]
  },
  {
   "cell_type": "code",
   "execution_count": 24,
   "metadata": {},
   "outputs": [],
   "source": [
    "df_bus_line.to_excel('./data/부산버스_노선.xlsx',index=False)"
   ]
  },
  {
   "cell_type": "markdown",
   "metadata": {},
   "source": [
    "부산의 버스 라인으로 검색하면 노선의 ID로 바꾸어 검색하기"
   ]
  },
  {
   "cell_type": "code",
   "execution_count": 28,
   "metadata": {},
   "outputs": [],
   "source": [
    "bus_id_num = pd.read_excel('./data/부산버스_노선.xlsx',usecols=['노선ID','버스 번호'])"
   ]
  },
  {
   "cell_type": "code",
   "execution_count": 29,
   "metadata": {},
   "outputs": [
    {
     "name": "stdout",
     "output_type": "stream",
     "text": [
      "5201002F00\n"
     ]
    }
   ],
   "source": [
    "# 버스 번호에 해당하는 노선 ID 찾기\n",
    "def bus(num):\n",
    "    condition = bus_id_num['버스 번호'] == str(num)\n",
    "    index = bus_id_num[condition].index\n",
    "    return bus_id_num.values[index][0][0]\n",
    "    \n",
    "\n",
    "print(bus('1002(심야)'))"
   ]
  },
  {
   "cell_type": "code",
   "execution_count": 44,
   "metadata": {},
   "outputs": [
    {
     "data": {
      "text/plain": [
       "'5201002000'"
      ]
     },
     "execution_count": 44,
     "metadata": {},
     "output_type": "execute_result"
    }
   ],
   "source": [
    "exam = bus(1002)\n",
    "exam"
   ]
  },
  {
   "cell_type": "code",
   "execution_count": null,
   "metadata": {},
   "outputs": [],
   "source": []
  },
  {
   "cell_type": "code",
   "execution_count": 26,
   "metadata": {},
   "outputs": [],
   "source": [
    "bus_now_list= []\n",
    "def bus_now(bus_num):\n",
    "    condition = bus_id_num['버스 번호'] == str(bus_num)\n",
    "    index = bus_id_num[condition].index\n",
    "    lineid = bus_id_num.values[index][0][0]\n",
    "    url = 'http://apis.data.go.kr/6260000/BusanBIMS/busInfoByRouteId'\n",
    "    params ={'serviceKey' : 'l2SER5UdFnVMTCfW/75Op1w1xj0ZVJyWjxZCA4s2qcMkJIjXonsQeorj8k35mmylOV0ywqc75RoXXtagwXuUnQ==',\n",
    "             'lineid' : lineid}\n",
    "    response = requests.get(url, params=params)\n",
    "    decodecontent = response.content.decode('utf-8')\n",
    "    xmlParser = BeautifulSoup(decodecontent,'xml')\n",
    "    contents = xmlParser.select('item')\n",
    "    for number in range(0,len(contents)):\n",
    "        content = contents[number].text.split('\\n')\n",
    "        content.remove('')\n",
    "        content.remove('')\n",
    "        bus_now_list.append(content)\n",
    "    return bus_now_list"
   ]
  },
  {
   "cell_type": "code",
   "execution_count": 49,
   "metadata": {},
   "outputs": [],
   "source": [
    "exam = bus_now(1002)"
   ]
  },
  {
   "cell_type": "code",
   "execution_count": 6,
   "metadata": {},
   "outputs": [],
   "source": [
    "stop_general = pd.read_excel('./data/부산버스_일반.xlsx')\n",
    "location = stop_general[['GPS X 좌표','GPS Y 좌표']]"
   ]
  },
  {
   "cell_type": "code",
   "execution_count": null,
   "metadata": {},
   "outputs": [],
   "source": [
    "map =folium.Map(location=[location['GPS Y 좌표'].mean(),location['GPS X 좌표'].mean()],zoom_start=12)\n",
    "\n",
    "\n",
    "for i in range(0,len(exam)):\n",
    "    try:\n",
    "        lat = exam[i][7]\n",
    "        lng = exam[i][8]\n",
    "        bus_num = exam[i][3]\n",
    "        if exam[i][4] == '1':\n",
    "            folium.CircleMarker(location=[lat,lng],\n",
    "                        fill=True,fill_color='red',fill_opacity=2,color='yellow',radius=5,weight=1).add_to(map)\n",
    "            folium.Marker(location=[lat,lng],icon=DivIcon(\n",
    "                icon_size=(100,60),\n",
    "                icon_anchor=(75,25),\n",
    "                html = f'''\n",
    "                <div style=\"font-size : 9pt; font-weight: bold ; color:black; text-align:center;\">\n",
    "                {exam[i][3]}번 버스\n",
    "                </div>\n",
    "                '''\n",
    "            )).add_to(map)\n",
    "        else:\n",
    "            folium.CircleMarker(location=[lat,lng],\n",
    "                fill=True,fill_color='blue',fill_opacity=2,color='yellow',radius=5,weight=1).add_to(map)\n",
    "            folium.Marker(location=[lat,lng],icon=DivIcon(\n",
    "                icon_size=(100,60),\n",
    "                icon_anchor=(75,25),\n",
    "                html = f'''\n",
    "                <div style=\"font-size : 9pt; font-weight: bold ; color:black; text-align:center;\">\n",
    "                {exam[i][3]}번 버스\n",
    "                </div>\n",
    "                '''\n",
    "            )).add_to(map)\n",
    "    except:\n",
    "        pass"
   ]
  },
  {
   "cell_type": "code",
   "execution_count": 31,
   "metadata": {},
   "outputs": [],
   "source": [
    "## 함수로 선언하기\n",
    "\n",
    "stop_general = pd.read_excel('./data/부산버스_일반.xlsx')\n",
    "location = stop_general[['GPS X 좌표','GPS Y 좌표']]\n",
    "bus_now_list= []\n",
    "\n",
    "\n",
    "map =folium.Map(location=[location['GPS Y 좌표'].mean(),location['GPS X 좌표'].mean()],zoom_start=12)\n",
    "\n",
    "\n",
    "def bus_now(bus_num):\n",
    "    condition = bus_id_num['버스 번호'] == str(bus_num)\n",
    "    index = bus_id_num[condition].index\n",
    "    lineid = bus_id_num.values[index][0][0]\n",
    "    url = 'http://apis.data.go.kr/6260000/BusanBIMS/busInfoByRouteId'\n",
    "    params ={'serviceKey' : 'l2SER5UdFnVMTCfW/75Op1w1xj0ZVJyWjxZCA4s2qcMkJIjXonsQeorj8k35mmylOV0ywqc75RoXXtagwXuUnQ==',\n",
    "            'lineid' : lineid}\n",
    "    response = requests.get(url, params=params)\n",
    "    decodecontent = response.content.decode('utf-8')\n",
    "    xmlParser = BeautifulSoup(decodecontent,'xml')\n",
    "    contents = xmlParser.select('item')\n",
    "    for number in range(0,len(contents)):\n",
    "        content = contents[number].text.split('\\n')\n",
    "        content.remove('')\n",
    "        content.remove('')\n",
    "        bus_now_list.append(content)\n",
    "        for i in range(0,len(bus_now_list)):\n",
    "            try:\n",
    "                lat = bus_now_list[i][7]\n",
    "                lng = bus_now_list[i][8]\n",
    "                bus_num = bus_now_list[i][3]\n",
    "                if bus_now_list[i][4] == '1':\n",
    "                    folium.CircleMarker(location=[lat,lng],\n",
    "                                fill=True,fill_color='red',fill_opacity=2,color='yellow',radius=5,weight=1).add_to(map)\n",
    "                    folium.Marker(location=[lat,lng],icon=DivIcon(\n",
    "                        icon_size=(100,60),\n",
    "                        icon_anchor=(75,25),\n",
    "                        html = f'''\n",
    "                        <div style=\"font-size : 9pt; font-weight: bold ; color:black; text-align:center;\">\n",
    "                        {bus_now_list[i][3]}번 버스\n",
    "                        </div>\n",
    "                        '''\n",
    "                    )).add_to(map)\n",
    "                elif bus_now_list[i][4] == '2':\n",
    "                    folium.CircleMarker(location=[lat,lng],\n",
    "                        fill=True,fill_color='blue',fill_opacity=2,color='yellow',radius=5,weight=1).add_to(map)\n",
    "                    folium.Marker(location=[lat,lng],icon=DivIcon(\n",
    "                        icon_size=(100,60),\n",
    "                        icon_anchor=(75,25),\n",
    "                        html = f'''\n",
    "                        <div style=\"font-size : 9pt; font-weight: bold ; color:black; text-align:center;\">\n",
    "                        {bus_now_list[i][3]}번 버스\n",
    "                        </div>\n",
    "                        '''\n",
    "                    )).add_to(map)\n",
    "            except:\n",
    "                pass\n",
    "    map.save('./data/부산버스 현재 위치.html')"
   ]
  },
  {
   "cell_type": "code",
   "execution_count": 32,
   "metadata": {},
   "outputs": [],
   "source": [
    "bus_now(80)"
   ]
  }
 ],
 "metadata": {
  "kernelspec": {
   "display_name": "Python 3",
   "language": "python",
   "name": "python3"
  },
  "language_info": {
   "codemirror_mode": {
    "name": "ipython",
    "version": 3
   },
   "file_extension": ".py",
   "mimetype": "text/x-python",
   "name": "python",
   "nbconvert_exporter": "python",
   "pygments_lexer": "ipython3",
   "version": "3.12.2"
  }
 },
 "nbformat": 4,
 "nbformat_minor": 2
}
