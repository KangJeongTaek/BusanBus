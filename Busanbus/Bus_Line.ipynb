{
 "cells": [
  {
   "cell_type": "code",
   "execution_count": 1,
   "metadata": {},
   "outputs": [],
   "source": [
    "import requests\n",
    "from bs4 import BeautifulSoup\n",
    "from urllib.request import urlopen\n",
    "import pandas as pd\n",
    "import folium\n",
    "from folium.features import DivIcon"
   ]
  },
  {
   "cell_type": "code",
   "execution_count": 21,
   "metadata": {},
   "outputs": [],
   "source": [
    "bus_id_num = pd.read_excel('./data/부산버스_노선.xlsx')"
   ]
  },
  {
   "cell_type": "code",
   "execution_count": 23,
   "metadata": {},
   "outputs": [],
   "source": [
    "def bus_num_stop(bus_num):\n",
    "    condition = bus_id_num['버스 번호'] == str(bus_num)\n",
    "    index = bus_id_num[condition].index\n",
    "    lineid = bus_id_num.values[index][0][0]\n",
    "    url = 'http://apis.data.go.kr/6260000/BusanBIMS/busInfoByRouteId'\n",
    "    params ={'serviceKey' : 'l2SER5UdFnVMTCfW/75Op1w1xj0ZVJyWjxZCA4s2qcMkJIjXonsQeorj8k35mmylOV0ywqc75RoXXtagwXuUnQ==',\n",
    "             'lineid' : lineid}\n",
    "    response = requests.get(url, params=params)\n",
    "    decodecontent = response.content.decode('utf-8')\n",
    "    xmlParser = BeautifulSoup(decodecontent,'xml')\n",
    "    contents = xmlParser.select('item')\n",
    "    return contents"
   ]
  },
  {
   "cell_type": "code",
   "execution_count": 27,
   "metadata": {},
   "outputs": [],
   "source": [
    "bus_line_stop_list = []\n",
    "line_80 = bus_num_stop(80)\n",
    "for item in line_80:\n",
    "    stop = item.select('bstopnm')[0].text\n",
    "    bus_line_stop_list.append(stop)"
   ]
  },
  {
   "cell_type": "code",
   "execution_count": 30,
   "metadata": {},
   "outputs": [
    {
     "data": {
      "text/plain": [
       "113"
      ]
     },
     "execution_count": 30,
     "metadata": {},
     "output_type": "execute_result"
    }
   ],
   "source": [
    "len(bus_line_stop_list)"
   ]
  },
  {
   "cell_type": "code",
   "execution_count": null,
   "metadata": {},
   "outputs": [],
   "source": []
  }
 ],
 "metadata": {
  "kernelspec": {
   "display_name": "Python 3",
   "language": "python",
   "name": "python3"
  },
  "language_info": {
   "codemirror_mode": {
    "name": "ipython",
    "version": 3
   },
   "file_extension": ".py",
   "mimetype": "text/x-python",
   "name": "python",
   "nbconvert_exporter": "python",
   "pygments_lexer": "ipython3",
   "version": "3.12.2"
  }
 },
 "nbformat": 4,
 "nbformat_minor": 2
}
