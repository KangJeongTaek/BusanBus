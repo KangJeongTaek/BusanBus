{
 "cells": [
  {
   "cell_type": "code",
   "execution_count": 2,
   "metadata": {},
   "outputs": [],
   "source": [
    "## 필요라이브러리\n",
    "import requests\n",
    "from bs4 import BeautifulSoup\n",
    "from urllib.request import urlopen\n",
    "import pandas as pd\n",
    "import folium"
   ]
  },
  {
   "cell_type": "code",
   "execution_count": 38,
   "metadata": {},
   "outputs": [],
   "source": [
    "# 모든 정거장 위치 검색하기\n",
    "allBusStop = []\n",
    "def busStop ():\n",
    "    url = 'http://apis.data.go.kr/6260000/BusanBIMS/busStopList'\n",
    "    params ={'serviceKey' : 'l2SER5UdFnVMTCfW/75Op1w1xj0ZVJyWjxZCA4s2qcMkJIjXonsQeorj8k35mmylOV0ywqc75RoXXtagwXuUnQ==',\n",
    "              'pageNo' : '1',\n",
    "              'numOfRows' : '499'}\n",
    "\n",
    "    response = requests.get(url, params=params)\n",
    "    decodecontent = response.content.decode('utf-8') \n",
    "    xmlParser = BeautifulSoup(decodecontent,'xml')\n",
    "    items= xmlParser.select(\"item\")\n",
    "    for number in range(0,len(items)):\n",
    "        item = items[number].text.split('\\n')\n",
    "        item.remove('')\n",
    "        item.remove('')\n",
    "        allBusStop.append(item)\n",
    "busStop()"
   ]
  },
  {
   "cell_type": "code",
   "execution_count": null,
   "metadata": {},
   "outputs": [],
   "source": [
    "busnStopDF = pd.read_excel('./data/부산광역 시_부산버스정보시스템.xlsx')"
   ]
  },
  {
   "cell_type": "code",
   "execution_count": null,
   "metadata": {},
   "outputs": [],
   "source": [
    "condition = busnStopDF['정류장 구분'] == '일반'\n",
    "stoptGeneral = busnStopDF[condition]\n",
    "stoptGeneral.to_excel('./data/부산버스_일반.xlsx',index=False)"
   ]
  },
  {
   "cell_type": "code",
   "execution_count": null,
   "metadata": {},
   "outputs": [],
   "source": [
    "condition = busnStopDF['정류장 구분'] == '마을'\n",
    "stopMura = busnStopDF[condition]"
   ]
  },
  {
   "cell_type": "code",
   "execution_count": null,
   "metadata": {},
   "outputs": [],
   "source": [
    "stopMura.to_excel('./data/부산버스_마을.xlsx',index=False)"
   ]
  },
  {
   "cell_type": "code",
   "execution_count": 4,
   "metadata": {},
   "outputs": [],
   "source": [
    "stop_general = pd.read_excel('./data/부산버스_일반.xlsx')\n",
    "location = stop_general[['GPS X 좌표','GPS Y 좌표']]"
   ]
  },
  {
   "cell_type": "code",
   "execution_count": 6,
   "metadata": {},
   "outputs": [],
   "source": [
    "map =folium.Map(location=[location['GPS Y 좌표'].mean(),location['GPS X 좌표'].mean()],zoom_start=12)\n",
    "\n",
    "\n",
    "for i in stop_general.index:\n",
    "    lat = stop_general.loc[i,'GPS Y 좌표']\n",
    "    lng = stop_general.loc[i,'GPS X 좌표']\n",
    "    stop_name = stop_general.loc[i,'정류소 명']\n",
    "    folium.CircleMarker(location=[lat,lng],\n",
    "                  fill=True,fill_color='green',fill_opacity=2,color='blue',radius=2,weight=1,popup=stop_name).add_to(map)\n",
    "map.save('./data/부산버스 정류소 위치.html')"
   ]
  }
 ],
 "metadata": {
  "kernelspec": {
   "display_name": "Python 3",
   "language": "python",
   "name": "python3"
  },
  "language_info": {
   "codemirror_mode": {
    "name": "ipython",
    "version": 3
   },
   "file_extension": ".py",
   "mimetype": "text/x-python",
   "name": "python",
   "nbconvert_exporter": "python",
   "pygments_lexer": "ipython3",
   "version": "3.12.2"
  }
 },
 "nbformat": 4,
 "nbformat_minor": 2
}
